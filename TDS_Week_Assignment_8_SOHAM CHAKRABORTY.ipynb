{
  "nbformat": 4,
  "nbformat_minor": 0,
  "metadata": {
    "colab": {
      "provenance": []
    },
    "kernelspec": {
      "name": "python3",
      "display_name": "Python 3"
    },
    "language_info": {
      "name": "python"
    }
  },
  "cells": [
    {
      "cell_type": "code",
      "execution_count": null,
      "metadata": {
        "id": "WBkKN4P1sGsI"
      },
      "outputs": [],
      "source": [
        "import streamlit as st\n",
        "\n",
        "def FindLargest(num1, num2, num3):\n",
        "    if num1 >= num2 and num1 >= num3:\n",
        "        return num1\n",
        "    elif num2 >= num1 and num2 >= num3:\n",
        "        return num2\n",
        "    else:\n",
        "        return num3\n",
        "\n",
        "def main():\n",
        "    st.title(\"Tools in Data Science Graded Assignment Week 8 : Find the Largest Among Three Numbers\")\n",
        "    st.write(\"Enter three numbers.\")\n",
        "\n",
        "    num1 = st.number_input(\"First number:\", step=1.0)\n",
        "    num2 = st.number_input(\"Second number:\", step=1.0)\n",
        "    num3 = st.number_input(\"Third number:\", step=1.0)\n",
        "\n",
        "    if st.button(\"Find Largest\"):\n",
        "        largest = FindLargest(num1, num2, num3)\n",
        "        st.success(f\"The largest number is: {largest}\")\n",
        "\n",
        "if __name__ == \"__main__\":\n",
        "    main()"
      ]
    }
  ]
}